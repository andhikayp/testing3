{
 "cells": [
  {
   "cell_type": "code",
   "execution_count": 1,
   "metadata": {},
   "outputs": [],
   "source": [
    "import mysql.connector\n",
    "import pandas as pd \n",
    "import json\n",
    "import numpy as np\n",
    "import MySQLdb\n",
    "import MySQLdb.cursors"
   ]
  },
  {
   "cell_type": "code",
   "execution_count": 2,
   "metadata": {},
   "outputs": [],
   "source": [
    "def get_soal(paket_id):\n",
    "    sql = \"SELECT * FROM soal where paket_id='%s'\" % (paket_id)\n",
    "    soal = pd.read_sql(sql, con=db_thread)\n",
    "    soal = soal.set_index('id') \n",
    "    return soal"
   ]
  },
  {
   "cell_type": "code",
   "execution_count": 3,
   "metadata": {},
   "outputs": [],
   "source": [
    "def get_ujian_siswa(paket_id):\n",
    "    sql = \"select * from ujian_siswa where paket_id='%s' and (status=2)\" % (paket_id)\n",
    "    cur_thread.execute(sql)\n",
    "    ujian_siswa = cur_thread.fetchall()\n",
    "    return ujian_siswa"
   ]
  },
  {
   "cell_type": "code",
   "execution_count": 4,
   "metadata": {},
   "outputs": [],
   "source": [
    "def init_load_ujian(random_soal, random_jawaban, jawaban_siswa):\n",
    "    soals = json.loads(random_soal)\n",
    "    jawaban_posisi = json.loads(random_jawaban)\n",
    "    jawabans = json.loads(jawaban_siswa)\n",
    "    return soals, jawaban_posisi, jawabans"
   ]
  },
  {
   "cell_type": "code",
   "execution_count": 5,
   "metadata": {},
   "outputs": [],
   "source": [
    "def init_posisi_jawaban():\n",
    "    intochar={'1':\"a\",'2':\"b\",'3':\"c\",'4':\"d\",'5':\"e\"}\n",
    "    arr_random= {\n",
    "        \"a\" : intochar[jawaban_posisi[key][0]],\n",
    "        \"b\" : intochar[jawaban_posisi[key][1]],\n",
    "        \"c\" : intochar[jawaban_posisi[key][2]],\n",
    "        \"d\" : intochar[jawaban_posisi[key][3]],\n",
    "        \"e\" : intochar[jawaban_posisi[key][4]],\n",
    "    }\n",
    "    return arr_random"
   ]
  },
  {
   "cell_type": "code",
   "execution_count": 6,
   "metadata": {},
   "outputs": [],
   "source": [
    "def sebaran_jawaban(arr_random, soal):\n",
    "    if(arr_random[jawabans[key].lower()] == 'a'):\n",
    "        soal.loc[soal_id, 'jawaban_a'] += 1 \n",
    "    elif(arr_random[jawabans[key].lower()] == 'b'):\n",
    "        soal.loc[soal_id, 'jawaban_b'] += 1\n",
    "    elif(arr_random[jawabans[key].lower()] == 'c'): \n",
    "        soal.loc[soal_id, 'jawaban_c'] += 1\n",
    "    elif(arr_random[jawabans[key].lower()] == 'd'):\n",
    "        soal.loc[soal_id, 'jawaban_d'] += 1\n",
    "    elif(arr_random[jawabans[key].lower()] == 'e'):\n",
    "        soal.loc[soal_id, 'jawaban_e'] += 1"
   ]
  },
  {
   "cell_type": "code",
   "execution_count": 7,
   "metadata": {},
   "outputs": [],
   "source": [
    "def update_hasil(soal, paket_id):\n",
    "    for index, row in soal.iterrows():\n",
    "        sql = \"update soal set jawaban_a=%d, jawaban_b=%d, jawaban_c=%d, jawaban_d=%d, jawaban_e=%d, siswa_id_benar='%s', jumlah_benar_siswa=%d, jumlah_siswa=%d where id='%s'\" %(row['jawaban_a'], row['jawaban_b'], row['jawaban_c'], row['jawaban_d'], row['jawaban_e'], row['siswa_id_benar'], row['jumlah_benar_siswa'], row['jumlah_siswa'], index)\n",
    "        cur_thread.execute(sql)\n",
    "    sql = \"update ujian_siswa set status=3 where paket_id='%s' and (status=2)\" % (paket['id'])\n",
    "    cur_thread.execute(sql)\n",
    "    sql = \"update paket set status=1 where id='%s'\" % (paket['id'])\n",
    "    cur_thread.execute(sql)\n",
    "    db_thread.commit()"
   ]
  },
  {
   "cell_type": "code",
   "execution_count": 8,
   "metadata": {
    "scrolled": true
   },
   "outputs": [
    {
     "name": "stdout",
     "output_type": "stream",
     "text": [
      "<MySQLdb.cursors.DictCursor object at 0x7fbb94a7e310>\n"
     ]
    }
   ],
   "source": [
    "db_thread = MySQLdb.connect(\"127.0.0.1\", \"root\", \"andhika\", \"usek_monev\", cursorclass=MySQLdb.cursors.DictCursor)\n",
    "cur_thread = db_thread.cursor()\n",
    "print(cur_thread)"
   ]
  },
  {
   "cell_type": "code",
   "execution_count": null,
   "metadata": {},
   "outputs": [
    {
     "name": "stdout",
     "output_type": "stream",
     "text": [
      "24687\n",
      "~DONE~ paket: K13_Bahasa_Inggris_1\n",
      "24695\n",
      "~DONE~ paket: K13_Bahasa_Inggris_2\n",
      "15175\n",
      "~DONE~ paket: K13_Bahasa_Inggris_3\n",
      "15365\n",
      "~DONE~ paket: K13_Bahasa_Inggris_4\n",
      "0\n",
      "~DONE~ paket: K13_Bahasa_Inggris_5\n",
      "0\n",
      "~DONE~ paket: K13_Bahasa_dan_Sastra_Inggris_(Peminatan)_1\n",
      "12426\n",
      "~DONE~ paket: K13_Bahasa_dan_Sastra_Inggris_(Peminatan)_2\n",
      "1055\n",
      "~DONE~ paket: K13_Bahasa_dan_Sastra_Inggris_(Peminatan)_3\n",
      "8485\n",
      "~DONE~ paket: K13_Bahasa_dan_Sastra_Inggris_(Peminatan)_4\n",
      "0\n",
      "~DONE~ paket: K13_Bahasa_dan_Sastra_Inggris_(Peminatan)_5\n",
      "24127\n",
      "~DONE~ paket: K13_Sejarah_Indonesia_1\n",
      "24082\n",
      "~DONE~ paket: K13_Sejarah_Indonesia_2\n",
      "14832\n",
      "~DONE~ paket: K13_Sejarah_Indonesia_3\n",
      "14868\n",
      "~DONE~ paket: K13_Sejarah_Indonesia_4\n",
      "905\n",
      "~DONE~ paket: K13_Sejarah_Indonesia_5\n",
      "8804\n",
      "~DONE~ paket: K13_Sejarah_Peminatan_IPS_1\n",
      "8902\n",
      "~DONE~ paket: K13_Sejarah_Peminatan_IPS_2\n",
      "8513\n",
      "~DONE~ paket: K13_Sejarah_Peminatan_IPS_3\n",
      "8511\n",
      "~DONE~ paket: K13_Sejarah_Peminatan_IPS_4\n",
      "0\n",
      "~DONE~ paket: K13_Sejarah_Peminatan_IPS_5\n",
      "11577\n",
      "~DONE~ paket: K13_Seni_Rupa_4\n",
      "0\n",
      "~DONE~ paket: K13_Seni_Rupa_5\n",
      "2257\n",
      "~DONE~ paket: K13_Seni_Musik_1\n",
      "2274\n",
      "~DONE~ paket: K13_Seni_Musik_2\n",
      "1466\n",
      "~DONE~ paket: K13_Seni_Musik_3\n",
      "1478\n",
      "~DONE~ paket: K13_Seni_Musik_4\n",
      "0\n",
      "~DONE~ paket: K13_Seni_Musik_5\n",
      "1272\n",
      "~DONE~ paket: K13_Seni_Tari_1\n",
      "1264\n",
      "~DONE~ paket: K13_Seni_Tari_2\n",
      "683\n",
      "~DONE~ paket: K13_Seni_Tari_3\n",
      "680\n",
      "~DONE~ paket: K13_Seni_Tari_4\n",
      "0\n",
      "~DONE~ paket: K13_Seni_Tari_5\n",
      "1135\n",
      "~DONE~ paket: K13_Seni_Teater_1\n",
      "1083\n",
      "~DONE~ paket: K13_Seni_Teater_2\n",
      "509\n",
      "~DONE~ paket: K13_Seni_Teater_3\n",
      "513\n",
      "~DONE~ paket: K13_Seni_Teater_4\n",
      "0\n",
      "~DONE~ paket: K13_Seni_Teater_5\n",
      "24817\n",
      "~DONE~ paket: K13_Pendidikan_Jasmani,_olahraga,_dan_Kesehatan_1\n",
      "24668\n"
     ]
    }
   ],
   "source": [
    "cur_thread.execute(\"SELECT * from paket where status = 0\")\n",
    "pakets = cur_thread.fetchall()\n",
    "for paket in pakets:\n",
    "    soal = get_soal(paket['id'])\n",
    "    ujian_siswas = get_ujian_siswa(paket['id'])\n",
    "    print(len(ujian_siswas))\n",
    "    for ujian_siswa in ujian_siswas:\n",
    "        soals, jawaban_posisi, jawabans = init_load_ujian(ujian_siswa[\"random_soal\"], ujian_siswa[\"random_jawaban\"], ujian_siswa[\"jawaban_siswa\"])\n",
    "        for key, soal_id in enumerate(soals):\n",
    "            siswa_id_benar = json.loads(soal.loc[soal_id, 'siswa_id_benar'])\n",
    "            if (soal.loc[soal_id, 'tipe_soal'] == 'pilihan_ganda'): \n",
    "                arr_random = init_posisi_jawaban()\n",
    "                if(jawabans[key] ==\" \"):\n",
    "                    jawaban_benar=0\n",
    "                else:\n",
    "                    if (arr_random[jawabans[key].lower()] == soal.loc[soal_id, 'kunci_jawaban'].lower()): \n",
    "                        jawaban_benar=1\n",
    "                        siswa_id_benar.append(ujian_siswa['id'])\n",
    "                        s = json.dumps(siswa_id_benar)\n",
    "                        soal.loc[soal_id, 'siswa_id_benar'] = s\n",
    "                    else :\n",
    "                        jawaban_benar=0                \n",
    "                    sebaran_jawaban(arr_random, soal)\n",
    "                soal.loc[soal_id, 'jumlah_benar_siswa'] += jawaban_benar                \n",
    "                soal.loc[soal_id, 'jumlah_siswa'] += 1\n",
    "    update_hasil(soal, paket['id'])\n",
    "    print(\"~DONE~ paket:\", paket['nama'])"
   ]
  },
  {
   "cell_type": "code",
   "execution_count": null,
   "metadata": {},
   "outputs": [],
   "source": []
  },
  {
   "cell_type": "code",
   "execution_count": null,
   "metadata": {},
   "outputs": [],
   "source": []
  },
  {
   "cell_type": "code",
   "execution_count": null,
   "metadata": {},
   "outputs": [],
   "source": []
  }
 ],
 "metadata": {
  "kernelspec": {
   "display_name": "Python 3",
   "language": "python",
   "name": "python3"
  },
  "language_info": {
   "codemirror_mode": {
    "name": "ipython",
    "version": 3
   },
   "file_extension": ".py",
   "mimetype": "text/x-python",
   "name": "python",
   "nbconvert_exporter": "python",
   "pygments_lexer": "ipython3",
   "version": "3.8.5"
  }
 },
 "nbformat": 4,
 "nbformat_minor": 2
}

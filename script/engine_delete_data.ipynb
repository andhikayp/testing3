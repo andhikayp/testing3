{
 "cells": [
  {
   "cell_type": "code",
   "execution_count": 1,
   "metadata": {},
   "outputs": [],
   "source": [
    "import mysql.connector\n",
    "import pandas as pd \n",
    "import json\n",
    "import numpy as np\n",
    "import MySQLdb\n",
    "import MySQLdb.cursors"
   ]
  },
  {
   "cell_type": "code",
   "execution_count": 2,
   "metadata": {},
   "outputs": [
    {
     "name": "stdout",
     "output_type": "stream",
     "text": [
      "<MySQLdb.cursors.DictCursor object at 0x00000167677ACC88>\n"
     ]
    }
   ],
   "source": [
    "db_thread = MySQLdb.connect(\"127.0.0.1\", \"root\", \"\", \"testing2\", cursorclass=MySQLdb.cursors.DictCursor)\n",
    "cur_thread = db_thread.cursor()\n",
    "print(cur_thread)"
   ]
  },
  {
   "cell_type": "code",
   "execution_count": 5,
   "metadata": {},
   "outputs": [],
   "source": [
    "cur_thread.execute(\"select count(*) as jumlah, sekolah_id from user u  group by u.sekolah_id order by jumlah desc;\")\n",
    "sekolahs = cur_thread.fetchall()"
   ]
  },
  {
   "cell_type": "code",
   "execution_count": null,
   "metadata": {},
   "outputs": [
    {
     "name": "stdout",
     "output_type": "stream",
     "text": [
      "sekolah_id:  0a64c00a-3e7e-11ea-bf72-dc7196bc523b\n",
      "jumlah:  298\n",
      "ok\n",
      "sekolah_id:  023687ec-3e7e-11ea-bf72-dc7196bc523b\n",
      "jumlah:  298\n",
      "ok\n",
      "sekolah_id:  0b222780-3e7e-11ea-bf72-dc7196bc523b\n",
      "jumlah:  298\n",
      "ok\n",
      "sekolah_id:  24377aa4-3e7e-11ea-bf72-dc7196bc523b\n",
      "jumlah:  298\n"
     ]
    }
   ],
   "source": [
    "for sekolah in sekolahs:\n",
    "    if 300 > sekolah['jumlah'] > 220:\n",
    "        print('sekolah_id: ', sekolah['sekolah_id'])        \n",
    "        print('jumlah: ', sekolah['jumlah'])\n",
    "        jumlah = int(sekolah['jumlah']/2)\n",
    "        sql = \"select * from user where level='siswa' and sekolah_id='%s' order by id LIMIT %d\" %(sekolah['sekolah_id'], jumlah)\n",
    "        cur_thread.execute(sql)\n",
    "        siswas = cur_thread.fetchall()\n",
    "        siswa_id = []\n",
    "        for siswa in siswas:\n",
    "            siswa_id.append(siswa['id'])\n",
    "        siswa_id_tuple = tuple(siswa_id)\n",
    "        sql = \"delete from ujian_siswa where user_id in {};\".format(siswa_id_tuple)\n",
    "        cur_thread.execute(sql)\n",
    "        db_thread.commit()\n",
    "        sql = \"delete from user where level='siswa' and id in {};\".format(siswa_id_tuple)\n",
    "        cur_thread.execute(sql)\n",
    "        db_thread.commit()\n",
    "        print(\"ok\")"
   ]
  },
  {
   "cell_type": "code",
   "execution_count": null,
   "metadata": {},
   "outputs": [],
   "source": []
  }
 ],
 "metadata": {
  "kernelspec": {
   "display_name": "Python 3",
   "language": "python",
   "name": "python3"
  },
  "language_info": {
   "codemirror_mode": {
    "name": "ipython",
    "version": 3
   },
   "file_extension": ".py",
   "mimetype": "text/x-python",
   "name": "python",
   "nbconvert_exporter": "python",
   "pygments_lexer": "ipython3",
   "version": "3.7.4"
  }
 },
 "nbformat": 4,
 "nbformat_minor": 2
}

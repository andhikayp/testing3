{
 "cells": [
  {
   "cell_type": "code",
   "execution_count": 1,
   "metadata": {},
   "outputs": [],
   "source": [
    "import mysql.connector\n",
    "import pandas as pd \n",
    "import json\n",
    "import numpy as np\n",
    "import MySQLdb\n",
    "import MySQLdb.cursors"
   ]
  },
  {
   "cell_type": "code",
   "execution_count": 2,
   "metadata": {},
   "outputs": [
    {
     "name": "stdout",
     "output_type": "stream",
     "text": [
      "<MySQLdb.cursors.DictCursor object at 0x7fbb09982970>\n"
     ]
    }
   ],
   "source": [
    "db_thread = MySQLdb.connect(\"127.0.0.1\", \"root\", \"andhika\", \"usek_monev\", cursorclass=MySQLdb.cursors.DictCursor)\n",
    "cur_thread = db_thread.cursor()\n",
    "print(cur_thread)"
   ]
  },
  {
   "cell_type": "code",
   "execution_count": 3,
   "metadata": {},
   "outputs": [],
   "source": [
    "def get_paket():\n",
    "    sql = \"SELECT * FROM paket\"\n",
    "    cur_thread.execute(sql)\n",
    "    paket = cur_thread.fetchall()\n",
    "    return paket"
   ]
  },
  {
   "cell_type": "code",
   "execution_count": 4,
   "metadata": {},
   "outputs": [],
   "source": [
    "def get_ujian_siswa(paket_id):\n",
    "    sql = \"select * from ujian_siswa where paket_id='%s' and status > 1\" % (paket_id)\n",
    "    ujian_siswa = pd.read_sql(sql, con=db_thread)\n",
    "    ujian_siswa = ujian_siswa.set_index('id') \n",
    "    return ujian_siswa"
   ]
  },
  {
   "cell_type": "code",
   "execution_count": 5,
   "metadata": {},
   "outputs": [],
   "source": [
    "def update_nilai_rata2_paket(paket):\n",
    "    sql = \"update paket set nilai_rata_rata=%.4f where id='%s'\" % (user['nilai_rata_rata'], paket['id'])\n",
    "    cur_thread.execute(sql)\n",
    "    db_thread.commit()        "
   ]
  },
  {
   "cell_type": "code",
   "execution_count": 6,
   "metadata": {},
   "outputs": [],
   "source": [
    "def get_nilai_rata2(hasil_sum):\n",
    "    jumlah_soal = hasil_sum[4] + hasil_sum[5] + hasil_sum[6] -  (ujian_siswas['jawaban_siswa'].count()*5)\n",
    "    nilai_rata2 = hasil_sum[4] / (jumlah_soal)\n",
    "    return nilai_rata2"
   ]
  },
  {
   "cell_type": "code",
   "execution_count": 7,
   "metadata": {},
   "outputs": [
    {
     "name": "stdout",
     "output_type": "stream",
     "text": [
      "KTSP_Pendidikan_Agama_Katolik_1\n"
     ]
    },
    {
     "ename": "NameError",
     "evalue": "name 'user' is not defined",
     "output_type": "error",
     "traceback": [
      "\u001b[0;31m---------------------------------------------------------------------------\u001b[0m",
      "\u001b[0;31mNameError\u001b[0m                                 Traceback (most recent call last)",
      "\u001b[0;32m<ipython-input-7-95767010cafb>\u001b[0m in \u001b[0;36m<module>\u001b[0;34m\u001b[0m\n\u001b[1;32m      4\u001b[0m     \u001b[0mujian_siswas\u001b[0m \u001b[0;34m=\u001b[0m \u001b[0mget_ujian_siswa\u001b[0m\u001b[0;34m(\u001b[0m\u001b[0mpaket\u001b[0m\u001b[0;34m[\u001b[0m\u001b[0;34m'id'\u001b[0m\u001b[0;34m]\u001b[0m\u001b[0;34m)\u001b[0m\u001b[0;34m\u001b[0m\u001b[0;34m\u001b[0m\u001b[0m\n\u001b[1;32m      5\u001b[0m     \u001b[0mpaket\u001b[0m\u001b[0;34m[\u001b[0m\u001b[0;34m'nilai_rata_rata'\u001b[0m\u001b[0;34m]\u001b[0m \u001b[0;34m=\u001b[0m \u001b[0mget_nilai_rata2\u001b[0m\u001b[0;34m(\u001b[0m\u001b[0mujian_siswas\u001b[0m\u001b[0;34m.\u001b[0m\u001b[0msum\u001b[0m\u001b[0;34m(\u001b[0m\u001b[0;34m)\u001b[0m\u001b[0;34m)\u001b[0m\u001b[0;34m\u001b[0m\u001b[0;34m\u001b[0m\u001b[0m\n\u001b[0;32m----> 6\u001b[0;31m     \u001b[0mupdate_nilai_rata2_paket\u001b[0m\u001b[0;34m(\u001b[0m\u001b[0mpaket\u001b[0m\u001b[0;34m)\u001b[0m\u001b[0;34m\u001b[0m\u001b[0;34m\u001b[0m\u001b[0m\n\u001b[0m\u001b[1;32m      7\u001b[0m \u001b[0mdb_thread\u001b[0m\u001b[0;34m.\u001b[0m\u001b[0mcommit\u001b[0m\u001b[0;34m(\u001b[0m\u001b[0;34m)\u001b[0m\u001b[0;34m\u001b[0m\u001b[0;34m\u001b[0m\u001b[0m\n",
      "\u001b[0;32m<ipython-input-5-56a0cd206d9e>\u001b[0m in \u001b[0;36mupdate_nilai_rata2_paket\u001b[0;34m(paket)\u001b[0m\n\u001b[1;32m      1\u001b[0m \u001b[0;32mdef\u001b[0m \u001b[0mupdate_nilai_rata2_paket\u001b[0m\u001b[0;34m(\u001b[0m\u001b[0mpaket\u001b[0m\u001b[0;34m)\u001b[0m\u001b[0;34m:\u001b[0m\u001b[0;34m\u001b[0m\u001b[0;34m\u001b[0m\u001b[0m\n\u001b[0;32m----> 2\u001b[0;31m     \u001b[0msql\u001b[0m \u001b[0;34m=\u001b[0m \u001b[0;34m\"update user set nilai_rata_rata=%.4f where id='%s'\"\u001b[0m \u001b[0;34m%\u001b[0m \u001b[0;34m(\u001b[0m\u001b[0muser\u001b[0m\u001b[0;34m[\u001b[0m\u001b[0;34m'nilai_rata_rata'\u001b[0m\u001b[0;34m]\u001b[0m\u001b[0;34m,\u001b[0m \u001b[0muser\u001b[0m\u001b[0;34m[\u001b[0m\u001b[0;34m'id'\u001b[0m\u001b[0;34m]\u001b[0m\u001b[0;34m)\u001b[0m\u001b[0;34m\u001b[0m\u001b[0;34m\u001b[0m\u001b[0m\n\u001b[0m\u001b[1;32m      3\u001b[0m     \u001b[0mcur_thread\u001b[0m\u001b[0;34m.\u001b[0m\u001b[0mexecute\u001b[0m\u001b[0;34m(\u001b[0m\u001b[0msql\u001b[0m\u001b[0;34m)\u001b[0m\u001b[0;34m\u001b[0m\u001b[0;34m\u001b[0m\u001b[0m\n\u001b[1;32m      4\u001b[0m     \u001b[0mdb_thread\u001b[0m\u001b[0;34m.\u001b[0m\u001b[0mcommit\u001b[0m\u001b[0;34m(\u001b[0m\u001b[0;34m)\u001b[0m\u001b[0;34m\u001b[0m\u001b[0;34m\u001b[0m\u001b[0m\n",
      "\u001b[0;31mNameError\u001b[0m: name 'user' is not defined"
     ]
    }
   ],
   "source": [
    "pakets = get_paket()\n",
    "for paket in pakets:\n",
    "    print(paket['nama'])\n",
    "    ujian_siswas = get_ujian_siswa(paket['id'])\n",
    "    paket['nilai_rata_rata'] = get_nilai_rata2(ujian_siswas.sum())\n",
    "    update_nilai_rata2_paket(paket)\n",
    "db_thread.commit()    "
   ]
  },
  {
   "cell_type": "code",
   "execution_count": null,
   "metadata": {},
   "outputs": [],
   "source": []
  }
 ],
 "metadata": {
  "kernelspec": {
   "display_name": "Python 3",
   "language": "python",
   "name": "python3"
  },
  "language_info": {
   "codemirror_mode": {
    "name": "ipython",
    "version": 3
   },
   "file_extension": ".py",
   "mimetype": "text/x-python",
   "name": "python",
   "nbconvert_exporter": "python",
   "pygments_lexer": "ipython3",
   "version": "3.8.5"
  }
 },
 "nbformat": 4,
 "nbformat_minor": 4
}

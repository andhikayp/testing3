{
 "cells": [
  {
   "cell_type": "code",
   "execution_count": 1,
   "metadata": {},
   "outputs": [],
   "source": [
    "import mysql.connector\n",
    "import pandas as pd \n",
    "import json\n",
    "import numpy as np\n",
    "import MySQLdb\n",
    "import MySQLdb.cursors"
   ]
  },
  {
   "cell_type": "code",
   "execution_count": 2,
   "metadata": {},
   "outputs": [],
   "source": [
    "def get_soal(paket_id):\n",
    "    sql = \"SELECT * FROM soal where paket_id='%s'\" % (paket_id)\n",
    "    soal = pd.read_sql(sql, con=db_thread)\n",
    "    soal = soal.set_index('id') \n",
    "    return soal"
   ]
  },
  {
   "cell_type": "code",
   "execution_count": 3,
   "metadata": {},
   "outputs": [],
   "source": [
    "def get_ujian_siswa(paket_id):\n",
    "    sql = \"select * from ujian_siswa where paket_id='%s' and (status=2)\" % (paket_id)\n",
    "    cur_thread.execute(sql)\n",
    "    ujian_siswa = cur_thread.fetchall()\n",
    "    return ujian_siswa"
   ]
  },
  {
   "cell_type": "code",
   "execution_count": 4,
   "metadata": {},
   "outputs": [],
   "source": [
    "def init_load_ujian(random_soal, random_jawaban, jawaban_siswa):\n",
    "    soals = json.loads(random_soal)\n",
    "    jawaban_posisi = json.loads(random_jawaban)\n",
    "    jawabans = json.loads(jawaban_siswa)\n",
    "    return soals, jawaban_posisi, jawabans"
   ]
  },
  {
   "cell_type": "code",
   "execution_count": 5,
   "metadata": {},
   "outputs": [],
   "source": [
    "def init_posisi_jawaban():\n",
    "    intochar={'1':\"a\",'2':\"b\",'3':\"c\",'4':\"d\",'5':\"e\"}\n",
    "    arr_random= {\n",
    "        \"a\" : intochar[jawaban_posisi[key][0]],\n",
    "        \"b\" : intochar[jawaban_posisi[key][1]],\n",
    "        \"c\" : intochar[jawaban_posisi[key][2]],\n",
    "        \"d\" : intochar[jawaban_posisi[key][3]],\n",
    "        \"e\" : intochar[jawaban_posisi[key][4]],\n",
    "    }\n",
    "    return arr_random"
   ]
  },
  {
   "cell_type": "code",
   "execution_count": 6,
   "metadata": {},
   "outputs": [],
   "source": [
    "def sebaran_jawaban(arr_random, soal):\n",
    "    if(arr_random[jawabans[key].lower()] == 'a'):\n",
    "        soal.loc[soal_id, 'jawaban_a'] += 1 \n",
    "    elif(arr_random[jawabans[key].lower()] == 'b'):\n",
    "        soal.loc[soal_id, 'jawaban_b'] += 1\n",
    "    elif(arr_random[jawabans[key].lower()] == 'c'): \n",
    "        soal.loc[soal_id, 'jawaban_c'] += 1\n",
    "    elif(arr_random[jawabans[key].lower()] == 'd'):\n",
    "        soal.loc[soal_id, 'jawaban_d'] += 1\n",
    "    elif(arr_random[jawabans[key].lower()] == 'e'):\n",
    "        soal.loc[soal_id, 'jawaban_e'] += 1"
   ]
  },
  {
   "cell_type": "code",
   "execution_count": 7,
   "metadata": {},
   "outputs": [],
   "source": [
    "def update_hasil(soal, paket_id):\n",
    "    for index, row in soal.iterrows():\n",
    "        sql = \"update soal set jawaban_a=%d, jawaban_b=%d, jawaban_c=%d, jawaban_d=%d, jawaban_e=%d, siswa_id_benar='%s', jumlah_benar_siswa=%d, jumlah_siswa=%d where id='%s'\" %(row['jawaban_a'], row['jawaban_b'], row['jawaban_c'], row['jawaban_d'], row['jawaban_e'], row['siswa_id_benar'], row['jumlah_benar_siswa'], row['jumlah_siswa'], index)\n",
    "        cur_thread.execute(sql)\n",
    "    sql = \"update ujian_siswa set status=3 where paket_id='%s' and (status=2)\" % (paket['id'])\n",
    "    cur_thread.execute(sql)\n",
    "    sql = \"update paket set status=1 where id='%s'\" % (paket['id'])\n",
    "    cur_thread.execute(sql)\n",
    "    db_thread.commit()"
   ]
  },
  {
   "cell_type": "code",
   "execution_count": 8,
   "metadata": {
    "scrolled": true
   },
   "outputs": [
    {
     "name": "stdout",
     "output_type": "stream",
     "text": [
      "<MySQLdb.cursors.DictCursor object at 0x7fdd8918ea90>\n"
     ]
    }
   ],
   "source": [
    "db_thread = MySQLdb.connect(\"127.0.0.1\", \"root\", \"andhika\", \"usek_monev\", cursorclass=MySQLdb.cursors.DictCursor)\n",
    "cur_thread = db_thread.cursor()\n",
    "print(cur_thread)"
   ]
  },
  {
   "cell_type": "code",
   "execution_count": 9,
   "metadata": {},
   "outputs": [
    {
     "name": "stdout",
     "output_type": "stream",
     "text": [
      "71927\n"
     ]
    },
    {
     "ename": "KeyboardInterrupt",
     "evalue": "",
     "output_type": "error",
     "traceback": [
      "\u001b[0;31m---------------------------------------------------------------------------\u001b[0m",
      "\u001b[0;31mKeyboardInterrupt\u001b[0m                         Traceback (most recent call last)",
      "\u001b[0;32m<ipython-input-9-72f40feedcd9>\u001b[0m in \u001b[0;36m<module>\u001b[0;34m\u001b[0m\n\u001b[1;32m     17\u001b[0m                         \u001b[0mjawaban_benar\u001b[0m\u001b[0;34m=\u001b[0m\u001b[0;36m1\u001b[0m\u001b[0;34m\u001b[0m\u001b[0;34m\u001b[0m\u001b[0m\n\u001b[1;32m     18\u001b[0m                         \u001b[0msiswa_id_benar\u001b[0m\u001b[0;34m.\u001b[0m\u001b[0mappend\u001b[0m\u001b[0;34m(\u001b[0m\u001b[0mujian_siswa\u001b[0m\u001b[0;34m[\u001b[0m\u001b[0;34m'id'\u001b[0m\u001b[0;34m]\u001b[0m\u001b[0;34m)\u001b[0m\u001b[0;34m\u001b[0m\u001b[0;34m\u001b[0m\u001b[0m\n\u001b[0;32m---> 19\u001b[0;31m                         \u001b[0ms\u001b[0m \u001b[0;34m=\u001b[0m \u001b[0mjson\u001b[0m\u001b[0;34m.\u001b[0m\u001b[0mdumps\u001b[0m\u001b[0;34m(\u001b[0m\u001b[0msiswa_id_benar\u001b[0m\u001b[0;34m)\u001b[0m\u001b[0;34m\u001b[0m\u001b[0;34m\u001b[0m\u001b[0m\n\u001b[0m\u001b[1;32m     20\u001b[0m                         \u001b[0msoal\u001b[0m\u001b[0;34m.\u001b[0m\u001b[0mloc\u001b[0m\u001b[0;34m[\u001b[0m\u001b[0msoal_id\u001b[0m\u001b[0;34m,\u001b[0m \u001b[0;34m'siswa_id_benar'\u001b[0m\u001b[0;34m]\u001b[0m \u001b[0;34m=\u001b[0m \u001b[0ms\u001b[0m\u001b[0;34m\u001b[0m\u001b[0;34m\u001b[0m\u001b[0m\n\u001b[1;32m     21\u001b[0m                     \u001b[0;32melse\u001b[0m \u001b[0;34m:\u001b[0m\u001b[0;34m\u001b[0m\u001b[0;34m\u001b[0m\u001b[0m\n",
      "\u001b[0;32m~/opt/anaconda3/lib/python3.8/json/__init__.py\u001b[0m in \u001b[0;36mdumps\u001b[0;34m(obj, skipkeys, ensure_ascii, check_circular, allow_nan, cls, indent, separators, default, sort_keys, **kw)\u001b[0m\n\u001b[1;32m    229\u001b[0m         \u001b[0mcls\u001b[0m \u001b[0;32mis\u001b[0m \u001b[0;32mNone\u001b[0m \u001b[0;32mand\u001b[0m \u001b[0mindent\u001b[0m \u001b[0;32mis\u001b[0m \u001b[0;32mNone\u001b[0m \u001b[0;32mand\u001b[0m \u001b[0mseparators\u001b[0m \u001b[0;32mis\u001b[0m \u001b[0;32mNone\u001b[0m \u001b[0;32mand\u001b[0m\u001b[0;34m\u001b[0m\u001b[0;34m\u001b[0m\u001b[0m\n\u001b[1;32m    230\u001b[0m         default is None and not sort_keys and not kw):\n\u001b[0;32m--> 231\u001b[0;31m         \u001b[0;32mreturn\u001b[0m \u001b[0m_default_encoder\u001b[0m\u001b[0;34m.\u001b[0m\u001b[0mencode\u001b[0m\u001b[0;34m(\u001b[0m\u001b[0mobj\u001b[0m\u001b[0;34m)\u001b[0m\u001b[0;34m\u001b[0m\u001b[0;34m\u001b[0m\u001b[0m\n\u001b[0m\u001b[1;32m    232\u001b[0m     \u001b[0;32mif\u001b[0m \u001b[0mcls\u001b[0m \u001b[0;32mis\u001b[0m \u001b[0;32mNone\u001b[0m\u001b[0;34m:\u001b[0m\u001b[0;34m\u001b[0m\u001b[0;34m\u001b[0m\u001b[0m\n\u001b[1;32m    233\u001b[0m         \u001b[0mcls\u001b[0m \u001b[0;34m=\u001b[0m \u001b[0mJSONEncoder\u001b[0m\u001b[0;34m\u001b[0m\u001b[0;34m\u001b[0m\u001b[0m\n",
      "\u001b[0;32m~/opt/anaconda3/lib/python3.8/json/encoder.py\u001b[0m in \u001b[0;36mencode\u001b[0;34m(self, o)\u001b[0m\n\u001b[1;32m    197\u001b[0m         \u001b[0;31m# exceptions aren't as detailed.  The list call should be roughly\u001b[0m\u001b[0;34m\u001b[0m\u001b[0;34m\u001b[0m\u001b[0;34m\u001b[0m\u001b[0m\n\u001b[1;32m    198\u001b[0m         \u001b[0;31m# equivalent to the PySequence_Fast that ''.join() would do.\u001b[0m\u001b[0;34m\u001b[0m\u001b[0;34m\u001b[0m\u001b[0;34m\u001b[0m\u001b[0m\n\u001b[0;32m--> 199\u001b[0;31m         \u001b[0mchunks\u001b[0m \u001b[0;34m=\u001b[0m \u001b[0mself\u001b[0m\u001b[0;34m.\u001b[0m\u001b[0miterencode\u001b[0m\u001b[0;34m(\u001b[0m\u001b[0mo\u001b[0m\u001b[0;34m,\u001b[0m \u001b[0m_one_shot\u001b[0m\u001b[0;34m=\u001b[0m\u001b[0;32mTrue\u001b[0m\u001b[0;34m)\u001b[0m\u001b[0;34m\u001b[0m\u001b[0;34m\u001b[0m\u001b[0m\n\u001b[0m\u001b[1;32m    200\u001b[0m         \u001b[0;32mif\u001b[0m \u001b[0;32mnot\u001b[0m \u001b[0misinstance\u001b[0m\u001b[0;34m(\u001b[0m\u001b[0mchunks\u001b[0m\u001b[0;34m,\u001b[0m \u001b[0;34m(\u001b[0m\u001b[0mlist\u001b[0m\u001b[0;34m,\u001b[0m \u001b[0mtuple\u001b[0m\u001b[0;34m)\u001b[0m\u001b[0;34m)\u001b[0m\u001b[0;34m:\u001b[0m\u001b[0;34m\u001b[0m\u001b[0;34m\u001b[0m\u001b[0m\n\u001b[1;32m    201\u001b[0m             \u001b[0mchunks\u001b[0m \u001b[0;34m=\u001b[0m \u001b[0mlist\u001b[0m\u001b[0;34m(\u001b[0m\u001b[0mchunks\u001b[0m\u001b[0;34m)\u001b[0m\u001b[0;34m\u001b[0m\u001b[0;34m\u001b[0m\u001b[0m\n",
      "\u001b[0;32m~/opt/anaconda3/lib/python3.8/json/encoder.py\u001b[0m in \u001b[0;36miterencode\u001b[0;34m(self, o, _one_shot)\u001b[0m\n\u001b[1;32m    255\u001b[0m                 \u001b[0mself\u001b[0m\u001b[0;34m.\u001b[0m\u001b[0mkey_separator\u001b[0m\u001b[0;34m,\u001b[0m \u001b[0mself\u001b[0m\u001b[0;34m.\u001b[0m\u001b[0mitem_separator\u001b[0m\u001b[0;34m,\u001b[0m \u001b[0mself\u001b[0m\u001b[0;34m.\u001b[0m\u001b[0msort_keys\u001b[0m\u001b[0;34m,\u001b[0m\u001b[0;34m\u001b[0m\u001b[0;34m\u001b[0m\u001b[0m\n\u001b[1;32m    256\u001b[0m                 self.skipkeys, _one_shot)\n\u001b[0;32m--> 257\u001b[0;31m         \u001b[0;32mreturn\u001b[0m \u001b[0m_iterencode\u001b[0m\u001b[0;34m(\u001b[0m\u001b[0mo\u001b[0m\u001b[0;34m,\u001b[0m \u001b[0;36m0\u001b[0m\u001b[0;34m)\u001b[0m\u001b[0;34m\u001b[0m\u001b[0;34m\u001b[0m\u001b[0m\n\u001b[0m\u001b[1;32m    258\u001b[0m \u001b[0;34m\u001b[0m\u001b[0m\n\u001b[1;32m    259\u001b[0m def _make_iterencode(markers, _default, _encoder, _indent, _floatstr,\n",
      "\u001b[0;31mKeyboardInterrupt\u001b[0m: "
     ]
    }
   ],
   "source": [
    "cur_thread.execute(\"SELECT * from paket where status = 0 and id in (SELECT id from paket where nama like '%K13_Pendidikan%')\")\n",
    "pakets = cur_thread.fetchall()\n",
    "for paket in pakets:\n",
    "    soal = get_soal(paket['id'])\n",
    "    ujian_siswas = get_ujian_siswa(paket['id'])\n",
    "    print(len(ujian_siswas))\n",
    "    count = 0\n",
    "    for ujian_siswa in ujian_siswas:\n",
    "        count+=1\n",
    "        if count%1000==0:\n",
    "            print(count)\n",
    "        soals, jawaban_posisi, jawabans = init_load_ujian(ujian_siswa[\"random_soal\"], ujian_siswa[\"random_jawaban\"], ujian_siswa[\"jawaban_siswa\"])\n",
    "        for key, soal_id in enumerate(soals):\n",
    "            siswa_id_benar = json.loads(soal.loc[soal_id, 'siswa_id_benar'])\n",
    "            if (soal.loc[soal_id, 'tipe_soal'] == 'pilihan_ganda'): \n",
    "                arr_random = init_posisi_jawaban()\n",
    "                if(jawabans[key] ==\" \"):\n",
    "                    jawaban_benar=0\n",
    "                else:\n",
    "                    if (arr_random[jawabans[key].lower()] == soal.loc[soal_id, 'kunci_jawaban'].lower()): \n",
    "                        jawaban_benar=1\n",
    "                        siswa_id_benar.append(ujian_siswa['id'])\n",
    "                        s = json.dumps(siswa_id_benar)\n",
    "                        soal.loc[soal_id, 'siswa_id_benar'] = s\n",
    "                    else :\n",
    "                        jawaban_benar=0                \n",
    "                    sebaran_jawaban(arr_random, soal)\n",
    "                soal.loc[soal_id, 'jumlah_benar_siswa'] += jawaban_benar                \n",
    "                soal.loc[soal_id, 'jumlah_siswa'] += 1\n",
    "    update_hasil(soal, paket['id'])\n",
    "    print(\"~DONE~ paket:\", paket['nama'])"
   ]
  },
  {
   "cell_type": "code",
   "execution_count": null,
   "metadata": {},
   "outputs": [],
   "source": []
  },
  {
   "cell_type": "code",
   "execution_count": null,
   "metadata": {},
   "outputs": [],
   "source": []
  },
  {
   "cell_type": "code",
   "execution_count": null,
   "metadata": {},
   "outputs": [],
   "source": []
  }
 ],
 "metadata": {
  "kernelspec": {
   "display_name": "Python 3",
   "language": "python",
   "name": "python3"
  },
  "language_info": {
   "codemirror_mode": {
    "name": "ipython",
    "version": 3
   },
   "file_extension": ".py",
   "mimetype": "text/x-python",
   "name": "python",
   "nbconvert_exporter": "python",
   "pygments_lexer": "ipython3",
   "version": "3.8.5"
  }
 },
 "nbformat": 4,
 "nbformat_minor": 2
}
